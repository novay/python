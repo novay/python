{
  "nbformat": 4,
  "nbformat_minor": 0,
  "metadata": {
    "colab": {
      "provenance": [],
      "toc_visible": true,
      "authorship_tag": "ABX9TyNCFd5Ezxr9v/2RKOmf1/S2",
      "include_colab_link": true
    },
    "kernelspec": {
      "name": "python3",
      "display_name": "Python 3"
    },
    "language_info": {
      "name": "python"
    }
  },
  "cells": [
    {
      "cell_type": "markdown",
      "metadata": {
        "id": "view-in-github",
        "colab_type": "text"
      },
      "source": [
        "<a href=\"https://colab.research.google.com/github/novay/python/blob/main/classification/lightgbm_classifier_example.ipynb\" target=\"_parent\"><img src=\"https://colab.research.google.com/assets/colab-badge.svg\" alt=\"Open In Colab\"/></a>"
      ]
    },
    {
      "cell_type": "markdown",
      "source": [
        "### **LightGBM (Example)**<br/>\n",
        "\n",
        "Di notebook ini saya akan coba membuat poin-poin penting dalam melakukan proses klasifikasi menggunakan **Algoritma LightGBM**. "
      ],
      "metadata": {
        "id": "sA1NSLe5dYsk"
      }
    },
    {
      "cell_type": "markdown",
      "source": [
        "#### **1. Initial Set-Up**<br/>\n",
        "Pada tahap ini saya mengumpulkan semua library yang akan digunakan dalam 1 cell berikut ini:"
      ],
      "metadata": {
        "id": "5ABm9aCIdc2q"
      }
    },
    {
      "cell_type": "code",
      "execution_count": 91,
      "metadata": {
        "id": "1rEQ9vPLc7Sx"
      },
      "outputs": [],
      "source": [
        "import numpy as np # linear algebra\n",
        "import pandas as pd # data processing, CSV file I/O (e.g. pd.read_csv)\n",
        "import matplotlib.pyplot as plt # data visualization\n",
        "import seaborn as sns # statistical data visualization\n",
        "\n",
        "from sklearn.model_selection import train_test_split\n",
        "from sklearn.feature_extraction.text import TfidfVectorizer\n",
        "from sklearn import metrics\n",
        "from sklearn.metrics import confusion_matrix\n",
        "\n",
        "# ignore warnings\n",
        "import warnings\n",
        "warnings.filterwarnings(\"ignore\")"
      ]
    },
    {
      "cell_type": "markdown",
      "source": [
        "#### **2. Data Preparation**<br/>\n",
        "Sebelum mulai, pastikan sudah menyiapkan data yang ingin diolah."
      ],
      "metadata": {
        "id": "iqq1100RdNz1"
      }
    },
    {
      "cell_type": "markdown",
      "source": [
        "##### **2.1 Read Dataset**<br/>\n"
      ],
      "metadata": {
        "id": "265GGePG5hkq"
      }
    },
    {
      "cell_type": "code",
      "source": [
        "df = pd.read_csv(\"/content/contoh.csv\", encoding = 'utf-8')\n",
        "\n",
        "df.isnull().values.any() # mengecek apakah ada data yang berisi null\n",
        "len(df[pd.isnull(df).any(axis=1)]) # mengecek jumlah baris data yang berisi null\n",
        "df = df.dropna(how='all') # menghapus baris null dan recheck kembali\n",
        "len(df[pd.isnull(df).any(axis=1)])\n",
        "\n",
        "map = {\"m\" : 1, \"f\" : 0} # Mapping gender\n",
        "df[\"gender\"] = df[\"gender\"].map(map)\n",
        "\n",
        "df.sample(5)"
      ],
      "metadata": {
        "colab": {
          "base_uri": "https://localhost:8080/",
          "height": 206
        },
        "id": "ax1DmpGjfJXD",
        "outputId": "1604c4b4-9f29-4a5c-953e-927173453317"
      },
      "execution_count": 92,
      "outputs": [
        {
          "output_type": "execute_result",
          "data": {
            "text/plain": [
              "                               name  gender\n",
              "96601   artanabil khaleef romansyah       1\n",
              "304961     lukas pardamean silalahi       1\n",
              "513689                       sainab       0\n",
              "73509                 andika novian       1\n",
              "421560                 nicholas sie       1"
            ],
            "text/html": [
              "\n",
              "  <div id=\"df-c581c38b-3741-4769-a414-b5ed2f1afd7c\">\n",
              "    <div class=\"colab-df-container\">\n",
              "      <div>\n",
              "<style scoped>\n",
              "    .dataframe tbody tr th:only-of-type {\n",
              "        vertical-align: middle;\n",
              "    }\n",
              "\n",
              "    .dataframe tbody tr th {\n",
              "        vertical-align: top;\n",
              "    }\n",
              "\n",
              "    .dataframe thead th {\n",
              "        text-align: right;\n",
              "    }\n",
              "</style>\n",
              "<table border=\"1\" class=\"dataframe\">\n",
              "  <thead>\n",
              "    <tr style=\"text-align: right;\">\n",
              "      <th></th>\n",
              "      <th>name</th>\n",
              "      <th>gender</th>\n",
              "    </tr>\n",
              "  </thead>\n",
              "  <tbody>\n",
              "    <tr>\n",
              "      <th>96601</th>\n",
              "      <td>artanabil khaleef romansyah</td>\n",
              "      <td>1</td>\n",
              "    </tr>\n",
              "    <tr>\n",
              "      <th>304961</th>\n",
              "      <td>lukas pardamean silalahi</td>\n",
              "      <td>1</td>\n",
              "    </tr>\n",
              "    <tr>\n",
              "      <th>513689</th>\n",
              "      <td>sainab</td>\n",
              "      <td>0</td>\n",
              "    </tr>\n",
              "    <tr>\n",
              "      <th>73509</th>\n",
              "      <td>andika novian</td>\n",
              "      <td>1</td>\n",
              "    </tr>\n",
              "    <tr>\n",
              "      <th>421560</th>\n",
              "      <td>nicholas sie</td>\n",
              "      <td>1</td>\n",
              "    </tr>\n",
              "  </tbody>\n",
              "</table>\n",
              "</div>\n",
              "      <button class=\"colab-df-convert\" onclick=\"convertToInteractive('df-c581c38b-3741-4769-a414-b5ed2f1afd7c')\"\n",
              "              title=\"Convert this dataframe to an interactive table.\"\n",
              "              style=\"display:none;\">\n",
              "        \n",
              "  <svg xmlns=\"http://www.w3.org/2000/svg\" height=\"24px\"viewBox=\"0 0 24 24\"\n",
              "       width=\"24px\">\n",
              "    <path d=\"M0 0h24v24H0V0z\" fill=\"none\"/>\n",
              "    <path d=\"M18.56 5.44l.94 2.06.94-2.06 2.06-.94-2.06-.94-.94-2.06-.94 2.06-2.06.94zm-11 1L8.5 8.5l.94-2.06 2.06-.94-2.06-.94L8.5 2.5l-.94 2.06-2.06.94zm10 10l.94 2.06.94-2.06 2.06-.94-2.06-.94-.94-2.06-.94 2.06-2.06.94z\"/><path d=\"M17.41 7.96l-1.37-1.37c-.4-.4-.92-.59-1.43-.59-.52 0-1.04.2-1.43.59L10.3 9.45l-7.72 7.72c-.78.78-.78 2.05 0 2.83L4 21.41c.39.39.9.59 1.41.59.51 0 1.02-.2 1.41-.59l7.78-7.78 2.81-2.81c.8-.78.8-2.07 0-2.86zM5.41 20L4 18.59l7.72-7.72 1.47 1.35L5.41 20z\"/>\n",
              "  </svg>\n",
              "      </button>\n",
              "      \n",
              "  <style>\n",
              "    .colab-df-container {\n",
              "      display:flex;\n",
              "      flex-wrap:wrap;\n",
              "      gap: 12px;\n",
              "    }\n",
              "\n",
              "    .colab-df-convert {\n",
              "      background-color: #E8F0FE;\n",
              "      border: none;\n",
              "      border-radius: 50%;\n",
              "      cursor: pointer;\n",
              "      display: none;\n",
              "      fill: #1967D2;\n",
              "      height: 32px;\n",
              "      padding: 0 0 0 0;\n",
              "      width: 32px;\n",
              "    }\n",
              "\n",
              "    .colab-df-convert:hover {\n",
              "      background-color: #E2EBFA;\n",
              "      box-shadow: 0px 1px 2px rgba(60, 64, 67, 0.3), 0px 1px 3px 1px rgba(60, 64, 67, 0.15);\n",
              "      fill: #174EA6;\n",
              "    }\n",
              "\n",
              "    [theme=dark] .colab-df-convert {\n",
              "      background-color: #3B4455;\n",
              "      fill: #D2E3FC;\n",
              "    }\n",
              "\n",
              "    [theme=dark] .colab-df-convert:hover {\n",
              "      background-color: #434B5C;\n",
              "      box-shadow: 0px 1px 3px 1px rgba(0, 0, 0, 0.15);\n",
              "      filter: drop-shadow(0px 1px 2px rgba(0, 0, 0, 0.3));\n",
              "      fill: #FFFFFF;\n",
              "    }\n",
              "  </style>\n",
              "\n",
              "      <script>\n",
              "        const buttonEl =\n",
              "          document.querySelector('#df-c581c38b-3741-4769-a414-b5ed2f1afd7c button.colab-df-convert');\n",
              "        buttonEl.style.display =\n",
              "          google.colab.kernel.accessAllowed ? 'block' : 'none';\n",
              "\n",
              "        async function convertToInteractive(key) {\n",
              "          const element = document.querySelector('#df-c581c38b-3741-4769-a414-b5ed2f1afd7c');\n",
              "          const dataTable =\n",
              "            await google.colab.kernel.invokeFunction('convertToInteractive',\n",
              "                                                     [key], {});\n",
              "          if (!dataTable) return;\n",
              "\n",
              "          const docLinkHtml = 'Like what you see? Visit the ' +\n",
              "            '<a target=\"_blank\" href=https://colab.research.google.com/notebooks/data_table.ipynb>data table notebook</a>'\n",
              "            + ' to learn more about interactive tables.';\n",
              "          element.innerHTML = '';\n",
              "          dataTable['output_type'] = 'display_data';\n",
              "          await google.colab.output.renderOutput(dataTable, element);\n",
              "          const docLink = document.createElement('div');\n",
              "          docLink.innerHTML = docLinkHtml;\n",
              "          element.appendChild(docLink);\n",
              "        }\n",
              "      </script>\n",
              "    </div>\n",
              "  </div>\n",
              "  "
            ]
          },
          "metadata": {},
          "execution_count": 92
        }
      ]
    },
    {
      "cell_type": "code",
      "source": [
        "# view summary of dataset\n",
        "df.info()"
      ],
      "metadata": {
        "colab": {
          "base_uri": "https://localhost:8080/"
        },
        "id": "o6hW1wfldTyp",
        "outputId": "232f7137-8b6e-4954-809d-703257f3d49b"
      },
      "execution_count": 93,
      "outputs": [
        {
          "output_type": "stream",
          "name": "stdout",
          "text": [
            "<class 'pandas.core.frame.DataFrame'>\n",
            "RangeIndex: 624241 entries, 0 to 624240\n",
            "Data columns (total 2 columns):\n",
            " #   Column  Non-Null Count   Dtype \n",
            "---  ------  --------------   ----- \n",
            " 0   name    624241 non-null  object\n",
            " 1   gender  624241 non-null  int64 \n",
            "dtypes: int64(1), object(1)\n",
            "memory usage: 9.5+ MB\n"
          ]
        }
      ]
    },
    {
      "cell_type": "markdown",
      "source": [
        "- Seperti yang dilihat ada 2 kolom dalam database diatas dan tidak ada yang bernilai kosong, null atau NaN."
      ],
      "metadata": {
        "id": "UJK3O6cIdl5m"
      }
    },
    {
      "cell_type": "markdown",
      "source": [
        "##### **2.2 Distribusi Variabel Target**<br/>\n",
        "Dimana, variable targetnya adalah `gender`"
      ],
      "metadata": {
        "id": "BlSuPHhAdo7h"
      }
    },
    {
      "cell_type": "code",
      "source": [
        "df['gender'].value_counts()"
      ],
      "metadata": {
        "colab": {
          "base_uri": "https://localhost:8080/"
        },
        "id": "yG5b3c4CdUCO",
        "outputId": "f37ee2f0-4573-4deb-84ff-19127343f03a"
      },
      "execution_count": 71,
      "outputs": [
        {
          "output_type": "execute_result",
          "data": {
            "text/plain": [
              "1    322538\n",
              "0    301703\n",
              "Name: gender, dtype: int64"
            ]
          },
          "metadata": {},
          "execution_count": 71
        }
      ]
    },
    {
      "cell_type": "markdown",
      "source": [
        "- Variabel target adalah `gender`. Berisi 2 nilai - 0 dan 1.\n",
        "- 0 untuk **Perempuan** dan 1 untuk **Laki-Laki**.\n",
        "- Dari sini kita akan memperlakukannya sebagai klasifikasi biner."
      ],
      "metadata": {
        "id": "AFJs4TxMeC3X"
      }
    },
    {
      "cell_type": "markdown",
      "source": [
        "##### **2.3 Penentuan Variabel**"
      ],
      "metadata": {
        "id": "gzLGFi_PeYPz"
      }
    },
    {
      "cell_type": "code",
      "source": [
        "feature_col_names = [\"name\"]\n",
        "predicted_class_names = [\"gender\"]\n",
        "\n",
        "X = df[feature_col_names].values     \n",
        "y = df[predicted_class_names].values"
      ],
      "metadata": {
        "id": "u3Zpv9jZdzfm"
      },
      "execution_count": 74,
      "outputs": []
    },
    {
      "cell_type": "markdown",
      "source": [
        "##### **2.4 Split Dataset**<br/>\n",
        "Split dataset into training and test set"
      ],
      "metadata": {
        "id": "9ryNVaphecKl"
      }
    },
    {
      "cell_type": "code",
      "source": [
        "split_test_size = 0.30\n",
        "\n",
        "text_train, text_test, y_train, y_test = train_test_split(X, y, test_size=split_test_size, stratify=y, random_state=42) \n",
        "\n",
        "print(\"Dataset Asli Pria       : {0} ({1:0.2f}%)\".format(len(df.loc[df['gender'] == 1]), (len(df.loc[df['gender'] == 1])/len(df.index)) * 100.0))\n",
        "print(\"Dataset Asli Wanita     : {0} ({1:0.2f}%)\".format(len(df.loc[df['gender'] == 0]), (len(df.loc[df['gender'] == 0])/len(df.index)) * 100.0))\n",
        "print(\"\")\n",
        "print(\"Dataset Training Pria   : {0} ({1:0.2f}%)\".format(len(y_train[y_train[:] == 1]), (len(y_train[y_train[:] == 1])/len(y_train) * 100.0)))\n",
        "print(\"Dataset Training Wanita : {0} ({1:0.2f}%)\".format(len(y_train[y_train[:] == 0]), (len(y_train[y_train[:] == 0])/len(y_train) * 100.0)))\n",
        "print(\"\")\n",
        "print(\"Dataset Test Pria       : {0} ({1:0.2f}%)\".format(len(y_test[y_test[:] == 1]), (len(y_test[y_test[:] == 1])/len(y_test) * 100.0)))\n",
        "print(\"Dataset Test Wanita     : {0} ({1:0.2f}%)\".format(len(y_test[y_test[:] == 0]), (len(y_test[y_test[:] == 0])/len(y_test) * 100.0)))"
      ],
      "metadata": {
        "colab": {
          "base_uri": "https://localhost:8080/"
        },
        "id": "2cMCnZkWeZ0j",
        "outputId": "e768cbad-d9d7-4304-c3a8-b741b91321f7"
      },
      "execution_count": 75,
      "outputs": [
        {
          "output_type": "stream",
          "name": "stdout",
          "text": [
            "Dataset Asli Pria       : 322538 (51.67%)\n",
            "Dataset Asli Wanita     : 301703 (48.33%)\n",
            "\n",
            "Dataset Training Pria   : 225776 (51.67%)\n",
            "Dataset Training Wanita : 211192 (48.33%)\n",
            "\n",
            "Dataset Test Pria       : 96762 (51.67%)\n",
            "Dataset Test Wanita     : 90511 (48.33%)\n"
          ]
        }
      ]
    },
    {
      "cell_type": "markdown",
      "source": [
        "#### **3. TF-IDF**"
      ],
      "metadata": {
        "id": "aRgiXcfd18Zn"
      }
    },
    {
      "cell_type": "code",
      "source": [
        "vectorizer_tfidf = TfidfVectorizer(analyzer='char_wb', ngram_range=(2,6))\n",
        "vectorizer_tfidf.fit(text_train.ravel())\n",
        "\n",
        "X_train_tfidf = vectorizer_tfidf.transform(text_train.ravel())\n",
        "X_test_tfidf = vectorizer_tfidf.transform(text_test.ravel())"
      ],
      "metadata": {
        "id": "vgUrwVMfib_s"
      },
      "execution_count": 24,
      "outputs": []
    },
    {
      "cell_type": "markdown",
      "source": [
        "#### **4. Buat Model**"
      ],
      "metadata": {
        "id": "lowbOuDF4AfN"
      }
    },
    {
      "cell_type": "markdown",
      "source": [
        "##### **4.1 LightGBM Classifier**"
      ],
      "metadata": {
        "id": "DgsHm6aT4s9Z"
      }
    },
    {
      "cell_type": "code",
      "source": [
        "import lightgbm as lgb\n",
        "\n",
        "clf = lgb.LGBMClassifier()\n",
        "clf.fit(X_train_tfidf, y_train)"
      ],
      "metadata": {
        "colab": {
          "base_uri": "https://localhost:8080/",
          "height": 75
        },
        "id": "_uIyZeKojcMT",
        "outputId": "b1a02a73-7d34-4aee-cd67-4bf4955f83fc"
      },
      "execution_count": 31,
      "outputs": [
        {
          "output_type": "execute_result",
          "data": {
            "text/plain": [
              "LGBMClassifier()"
            ],
            "text/html": [
              "<style>#sk-container-id-2 {color: black;background-color: white;}#sk-container-id-2 pre{padding: 0;}#sk-container-id-2 div.sk-toggleable {background-color: white;}#sk-container-id-2 label.sk-toggleable__label {cursor: pointer;display: block;width: 100%;margin-bottom: 0;padding: 0.3em;box-sizing: border-box;text-align: center;}#sk-container-id-2 label.sk-toggleable__label-arrow:before {content: \"▸\";float: left;margin-right: 0.25em;color: #696969;}#sk-container-id-2 label.sk-toggleable__label-arrow:hover:before {color: black;}#sk-container-id-2 div.sk-estimator:hover label.sk-toggleable__label-arrow:before {color: black;}#sk-container-id-2 div.sk-toggleable__content {max-height: 0;max-width: 0;overflow: hidden;text-align: left;background-color: #f0f8ff;}#sk-container-id-2 div.sk-toggleable__content pre {margin: 0.2em;color: black;border-radius: 0.25em;background-color: #f0f8ff;}#sk-container-id-2 input.sk-toggleable__control:checked~div.sk-toggleable__content {max-height: 200px;max-width: 100%;overflow: auto;}#sk-container-id-2 input.sk-toggleable__control:checked~label.sk-toggleable__label-arrow:before {content: \"▾\";}#sk-container-id-2 div.sk-estimator input.sk-toggleable__control:checked~label.sk-toggleable__label {background-color: #d4ebff;}#sk-container-id-2 div.sk-label input.sk-toggleable__control:checked~label.sk-toggleable__label {background-color: #d4ebff;}#sk-container-id-2 input.sk-hidden--visually {border: 0;clip: rect(1px 1px 1px 1px);clip: rect(1px, 1px, 1px, 1px);height: 1px;margin: -1px;overflow: hidden;padding: 0;position: absolute;width: 1px;}#sk-container-id-2 div.sk-estimator {font-family: monospace;background-color: #f0f8ff;border: 1px dotted black;border-radius: 0.25em;box-sizing: border-box;margin-bottom: 0.5em;}#sk-container-id-2 div.sk-estimator:hover {background-color: #d4ebff;}#sk-container-id-2 div.sk-parallel-item::after {content: \"\";width: 100%;border-bottom: 1px solid gray;flex-grow: 1;}#sk-container-id-2 div.sk-label:hover label.sk-toggleable__label {background-color: #d4ebff;}#sk-container-id-2 div.sk-serial::before {content: \"\";position: absolute;border-left: 1px solid gray;box-sizing: border-box;top: 0;bottom: 0;left: 50%;z-index: 0;}#sk-container-id-2 div.sk-serial {display: flex;flex-direction: column;align-items: center;background-color: white;padding-right: 0.2em;padding-left: 0.2em;position: relative;}#sk-container-id-2 div.sk-item {position: relative;z-index: 1;}#sk-container-id-2 div.sk-parallel {display: flex;align-items: stretch;justify-content: center;background-color: white;position: relative;}#sk-container-id-2 div.sk-item::before, #sk-container-id-2 div.sk-parallel-item::before {content: \"\";position: absolute;border-left: 1px solid gray;box-sizing: border-box;top: 0;bottom: 0;left: 50%;z-index: -1;}#sk-container-id-2 div.sk-parallel-item {display: flex;flex-direction: column;z-index: 1;position: relative;background-color: white;}#sk-container-id-2 div.sk-parallel-item:first-child::after {align-self: flex-end;width: 50%;}#sk-container-id-2 div.sk-parallel-item:last-child::after {align-self: flex-start;width: 50%;}#sk-container-id-2 div.sk-parallel-item:only-child::after {width: 0;}#sk-container-id-2 div.sk-dashed-wrapped {border: 1px dashed gray;margin: 0 0.4em 0.5em 0.4em;box-sizing: border-box;padding-bottom: 0.4em;background-color: white;}#sk-container-id-2 div.sk-label label {font-family: monospace;font-weight: bold;display: inline-block;line-height: 1.2em;}#sk-container-id-2 div.sk-label-container {text-align: center;}#sk-container-id-2 div.sk-container {/* jupyter's `normalize.less` sets `[hidden] { display: none; }` but bootstrap.min.css set `[hidden] { display: none !important; }` so we also need the `!important` here to be able to override the default hidden behavior on the sphinx rendered scikit-learn.org. See: https://github.com/scikit-learn/scikit-learn/issues/21755 */display: inline-block !important;position: relative;}#sk-container-id-2 div.sk-text-repr-fallback {display: none;}</style><div id=\"sk-container-id-2\" class=\"sk-top-container\"><div class=\"sk-text-repr-fallback\"><pre>LGBMClassifier()</pre><b>In a Jupyter environment, please rerun this cell to show the HTML representation or trust the notebook. <br />On GitHub, the HTML representation is unable to render, please try loading this page with nbviewer.org.</b></div><div class=\"sk-container\" hidden><div class=\"sk-item\"><div class=\"sk-estimator sk-toggleable\"><input class=\"sk-toggleable__control sk-hidden--visually\" id=\"sk-estimator-id-2\" type=\"checkbox\" checked><label for=\"sk-estimator-id-2\" class=\"sk-toggleable__label sk-toggleable__label-arrow\">LGBMClassifier</label><div class=\"sk-toggleable__content\"><pre>LGBMClassifier()</pre></div></div></div></div></div>"
            ]
          },
          "metadata": {},
          "execution_count": 31
        }
      ]
    },
    {
      "cell_type": "markdown",
      "source": [
        "##### **4.2 Data Tesing**"
      ],
      "metadata": {
        "id": "RuXv8Ye24zUr"
      }
    },
    {
      "cell_type": "code",
      "source": [
        "dt_pred_tfidf = clf.predict(X_test_tfidf)\n",
        "accuracy = metrics.accuracy_score(dt_pred_tfidf, y_test)\n",
        "\n",
        "print('LightGBM Model accuracy score: {0:0.4f}'.format(metrics.accuracy_score(y_test, dt_pred_tfidf)))"
      ],
      "metadata": {
        "colab": {
          "base_uri": "https://localhost:8080/"
        },
        "id": "Qh-5Q6P4uGl9",
        "outputId": "490f7c87-b79b-41cb-9e21-6f786c688640"
      },
      "execution_count": 94,
      "outputs": [
        {
          "output_type": "stream",
          "name": "stdout",
          "text": [
            "LightGBM Model accuracy score: 0.9404%\n"
          ]
        }
      ]
    },
    {
      "cell_type": "markdown",
      "source": [
        "##### **4.3 Data Train**<br/>\n",
        "Sekarang, aku akan membandingkan akurasi dari train-set dan test-set untuk pemeriksaan overfitting."
      ],
      "metadata": {
        "id": "eg6QIHJYez39"
      }
    },
    {
      "cell_type": "code",
      "source": [
        "y_pred_train = clf.predict(X_train_tfidf)\n",
        "print('Training-set accuracy score: {0:0.4f}'. format(metrics.accuracy_score(y_train, y_pred_train)))"
      ],
      "metadata": {
        "colab": {
          "base_uri": "https://localhost:8080/"
        },
        "id": "4zHMeoGOes0D",
        "outputId": "3cb47954-5b42-4148-f68f-e629f4e1ecbd"
      },
      "execution_count": 81,
      "outputs": [
        {
          "output_type": "stream",
          "name": "stdout",
          "text": [
            "Training-set accuracy score: 0.9422\n"
          ]
        }
      ]
    },
    {
      "cell_type": "markdown",
      "source": [
        "##### **4.4 Overfitting Check**"
      ],
      "metadata": {
        "id": "km-fN5mce7k8"
      }
    },
    {
      "cell_type": "code",
      "source": [
        "print('Training set score: {:.4f}'.format(clf.score(X_train_tfidf, y_train)))\n",
        "print('Test set score: {:.4f}'.format(clf.score(X_test_tfidf, y_test)))"
      ],
      "metadata": {
        "colab": {
          "base_uri": "https://localhost:8080/"
        },
        "id": "FxGghUkse3Xs",
        "outputId": "0ca1a4b5-7da0-4809-cd7a-2e3ae1b5c2bb"
      },
      "execution_count": 83,
      "outputs": [
        {
          "output_type": "stream",
          "name": "stdout",
          "text": [
            "Training set score: 0.9422\n",
            "Test set score: 0.9404\n"
          ]
        }
      ]
    },
    {
      "cell_type": "markdown",
      "source": [
        "Akurasi train-set dan test-set cukup sebanding. Jadi, kita tidak bisa mengatakan ada overfitting."
      ],
      "metadata": {
        "id": "LZ8zGH0De_27"
      }
    },
    {
      "cell_type": "markdown",
      "source": [
        "#### **5. Evaluasi Model**"
      ],
      "metadata": {
        "id": "uBqM7CsF6D19"
      }
    },
    {
      "cell_type": "markdown",
      "source": [
        "##### **5.1 Confusion Matrix**"
      ],
      "metadata": {
        "id": "qLHCf1AYfB7H"
      }
    },
    {
      "cell_type": "code",
      "source": [
        "cm = confusion_matrix(y_test, dt_pred_tfidf)\n",
        "\n",
        "print('Confusion matrix\\n\\n', cm)\n",
        "print('\\nTrue Positives(TP) = ', cm[0,0])\n",
        "print('True Negatives(TN) = ', cm[1,1])\n",
        "print('False Positives(FP) = ', cm[0,1])\n",
        "print('False Negatives(FN) = ', cm[1,0])"
      ],
      "metadata": {
        "colab": {
          "base_uri": "https://localhost:8080/"
        },
        "id": "QSBhTWIJe9St",
        "outputId": "03e4cfb0-f0ca-4728-d456-311c9e390e96"
      },
      "execution_count": 90,
      "outputs": [
        {
          "output_type": "stream",
          "name": "stdout",
          "text": [
            "Confusion matrix\n",
            "\n",
            " [[84346  6165]\n",
            " [ 4988 91774]]\n",
            "\n",
            "True Positives(TP) =  84346\n",
            "True Negatives(TN) =  91774\n",
            "False Positives(FP) =  6165\n",
            "False Negatives(FN) =  4988\n"
          ]
        }
      ]
    },
    {
      "cell_type": "code",
      "source": [
        "cm_matrix = pd.DataFrame(data=cm, columns=['Actual Positive:1', 'Actual Negative:0'], \n",
        "                                 index=['Predict Positive:1', 'Predict Negative:0'])\n",
        "\n",
        "sns.heatmap(cm_matrix, annot=True, fmt='d', cmap='YlGnBu')"
      ],
      "metadata": {
        "colab": {
          "base_uri": "https://localhost:8080/",
          "height": 448
        },
        "id": "PD267MJSfDyg",
        "outputId": "7a9ed420-8580-44f8-e071-c758ea1d54f2"
      },
      "execution_count": 88,
      "outputs": [
        {
          "output_type": "execute_result",
          "data": {
            "text/plain": [
              "<Axes: >"
            ]
          },
          "metadata": {},
          "execution_count": 88
        },
        {
          "output_type": "display_data",
          "data": {
            "text/plain": [
              "<Figure size 640x480 with 2 Axes>"
            ],
            "image/png": "[encoded data removed]"
          },
          "metadata": {}
        }
      ]
    },
    {
      "cell_type": "markdown",
      "source": [
        "##### **5.2 Classification Metrices**"
      ],
      "metadata": {
        "id": "_q2rPBCnfIDj"
      }
    },
    {
      "cell_type": "code",
      "source": [
        "print(metrics.classification_report(y_test, dt_pred_tfidf, digits=5, labels=[1,0]))"
      ],
      "metadata": {
        "colab": {
          "base_uri": "https://localhost:8080/"
        },
        "id": "G36FXx6SfGCe",
        "outputId": "151f753b-9021-443a-aeef-f64076cb2d7f"
      },
      "execution_count": 86,
      "outputs": [
        {
          "output_type": "stream",
          "name": "stdout",
          "text": [
            "              precision    recall  f1-score   support\n",
            "\n",
            "           1    0.93705   0.94845   0.94272     96762\n",
            "           0    0.94416   0.93189   0.93799     90511\n",
            "\n",
            "    accuracy                        0.94045    187273\n",
            "   macro avg    0.94061   0.94017   0.94035    187273\n",
            "weighted avg    0.94049   0.94045   0.94043    187273\n",
            "\n"
          ]
        }
      ]
    },
    {
      "cell_type": "markdown",
      "source": [
        "#### **6. Prediksi Manual**"
      ],
      "metadata": {
        "id": "cLZ_z-OciiYg"
      }
    },
    {
      "cell_type": "code",
      "source": [
        "def prediksi(prediction):\n",
        "    return 'Laki-Laki' if prediction == 1 else 'Perempuan'\n",
        "\n",
        "nama = [\n",
        "  'Novi Gustiana', \n",
        "  'Novia Kumala Sari', \n",
        "  'Novianto Rahmadi', \n",
        "  'Padli Nofrizal', \n",
        "  'Putri Wahyuni', \n",
        "  'Rahmat Hidayat', \n",
        "  'Rahmi Andreni', \n",
        "  'Rian Aries Fani', \n",
        "  'Riandi Selvi', \n",
        "  'Rianto', \n",
        "  'Ridha Ulva', \n",
        "  'Rizqi Wahyuningsih', \n",
        "  'Ruwadi Saputra', \n",
        "  'Sugeng Hermawan', \n",
        "  'Suliatun', \n",
        "  'Tomi Ismeidianto', \n",
        "  'Usthalay Putra', \n",
        "  'Winggo Aga Septian', \n",
        "  'Yunaldi Rizki Putra', \n",
        "  'Arif fasetyo', \n",
        "  'Arie Rahman Satria', \n",
        "  'Arinda Oktaviana', \n",
        "  'Melani', \n",
        "  'Malik', \n",
        "  'Melani Malik'\n",
        "]\n",
        "inputan = vectorizer_tfidf.transform(nama)\n",
        "\n",
        "for i in range(len(nama)):\n",
        "    prediction = clf.predict(inputan[i])[0]\n",
        "    print(f\"Nama: {nama[i]}, Prediksi: {prediksi(prediction)}\")"
      ],
      "metadata": {
        "colab": {
          "base_uri": "https://localhost:8080/"
        },
        "id": "-EnbinvgueCg",
        "outputId": "0f57226a-1f03-4e3c-84e3-abfeb206ac12"
      },
      "execution_count": 87,
      "outputs": [
        {
          "output_type": "stream",
          "name": "stdout",
          "text": [
            "Nama: Novi Gustiana, Prediksi: Perempuan\n",
            "Nama: Novia Kumala Sari, Prediksi: Perempuan\n",
            "Nama: Novianto Rahmadi, Prediksi: Laki-Laki\n",
            "Nama: Padli Nofrizal, Prediksi: Laki-Laki\n",
            "Nama: Putri Wahyuni, Prediksi: Perempuan\n",
            "Nama: Rahmat Hidayat, Prediksi: Laki-Laki\n",
            "Nama: Rahmi Andreni, Prediksi: Perempuan\n",
            "Nama: Rian Aries Fani, Prediksi: Laki-Laki\n",
            "Nama: Riandi Selvi, Prediksi: Laki-Laki\n",
            "Nama: Rianto, Prediksi: Laki-Laki\n",
            "Nama: Ridha Ulva, Prediksi: Perempuan\n",
            "Nama: Rizqi Wahyuningsih, Prediksi: Perempuan\n",
            "Nama: Ruwadi Saputra, Prediksi: Laki-Laki\n",
            "Nama: Sugeng Hermawan, Prediksi: Laki-Laki\n",
            "Nama: Suliatun, Prediksi: Perempuan\n",
            "Nama: Tomi Ismeidianto, Prediksi: Laki-Laki\n",
            "Nama: Usthalay Putra, Prediksi: Laki-Laki\n",
            "Nama: Winggo Aga Septian, Prediksi: Laki-Laki\n",
            "Nama: Yunaldi Rizki Putra, Prediksi: Laki-Laki\n",
            "Nama: Arif fasetyo, Prediksi: Laki-Laki\n",
            "Nama: Arie Rahman Satria, Prediksi: Laki-Laki\n",
            "Nama: Arinda Oktaviana, Prediksi: Perempuan\n",
            "Nama: Melani, Prediksi: Perempuan\n",
            "Nama: Malik, Prediksi: Laki-Laki\n",
            "Nama: Melani Malik, Prediksi: Perempuan\n"
          ]
        }
      ]
    }
  ]
}