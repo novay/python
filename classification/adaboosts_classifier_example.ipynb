{
  "nbformat": 4,
  "nbformat_minor": 0,
  "metadata": {
    "colab": {
      "provenance": [],
      "authorship_tag": "ABX9TyMd1MQDhsudlz4A2JtqjEAp",
      "include_colab_link": true
    },
    "kernelspec": {
      "name": "python3",
      "display_name": "Python 3"
    },
    "language_info": {
      "name": "python"
    }
  },
  "cells": [
    {
      "cell_type": "markdown",
      "metadata": {
        "id": "view-in-github",
        "colab_type": "text"
      },
      "source": [
        "<a href=\"https://colab.research.google.com/github/novay/python/blob/main/classification/adaboosts_classifier_example.ipynb\" target=\"_parent\"><img src=\"https://colab.research.google.com/assets/colab-badge.svg\" alt=\"Open In Colab\"/></a>"
      ]
    },
    {
      "cell_type": "markdown",
      "source": [
        "### **Ada Boost (Example)**<br/>\n",
        "\n",
        "Di notebook ini saya akan coba membuat poin-poin penting dalam melakukan proses klasifikasi menggunakan **Algoritma Ada Boost**. "
      ],
      "metadata": {
        "id": "sA1NSLe5dYsk"
      }
    },
    {
      "cell_type": "markdown",
      "source": [
        "#### **1. Initial Set-Up**<br/>\n",
        "Pada tahap ini saya mengumpulkan semua library yang akan digunakan dalam 1 cell berikut ini:"
      ],
      "metadata": {
        "id": "5ABm9aCIdc2q"
      }
    },
    {
      "cell_type": "code",
      "execution_count": 2,
      "metadata": {
        "id": "1rEQ9vPLc7Sx"
      },
      "outputs": [],
      "source": [
        "import numpy as np # linear algebra\n",
        "import pandas as pd # data processing, CSV file I/O (e.g. pd.read_csv)\n",
        "import matplotlib.pyplot as plt # data visualization\n",
        "import seaborn as sns # statistical data visualization\n",
        "\n",
        "from sklearn.model_selection import train_test_split\n",
        "from sklearn.feature_extraction.text import TfidfVectorizer\n",
        "from sklearn import metrics\n",
        "from sklearn.metrics import confusion_matrix\n",
        "\n",
        "# ignore warnings\n",
        "import warnings\n",
        "warnings.filterwarnings(\"ignore\")"
      ]
    },
    {
      "cell_type": "markdown",
      "source": [
        "#### **2. Data Preparation**<br/>\n",
        "Sebelum mulai, pastikan sudah menyiapkan data yang ingin diolah."
      ],
      "metadata": {
        "id": "iqq1100RdNz1"
      }
    },
    {
      "cell_type": "markdown",
      "source": [
        "##### **2.1 Read Dataset**<br/>\n"
      ],
      "metadata": {
        "id": "265GGePG5hkq"
      }
    },
    {
      "cell_type": "code",
      "source": [
        "df = pd.read_csv(\"/content/nama-gender-titik.csv\", encoding='utf-8', sep=\";\")\n",
        "\n",
        "df.isnull().values.any() # mengecek apakah ada data yang berisi null\n",
        "len(df[pd.isnull(df).any(axis=1)]) # mengecek jumlah baris data yang berisi null\n",
        "df = df.dropna(how='all') # menghapus baris null dan recheck kembali\n",
        "len(df[pd.isnull(df).any(axis=1)])\n",
        "\n",
        "map = {\"m\" : 1, \"f\" : 0} # Mapping gender\n",
        "df[\"gender\"] = df[\"gender\"].map(map)\n",
        "\n",
        "df.sample(5)"
      ],
      "metadata": {
        "colab": {
          "base_uri": "https://localhost:8080/",
          "height": 206
        },
        "id": "ax1DmpGjfJXD",
        "outputId": "f1946bff-7e99-4c4e-9e9b-4a7d48a43b53"
      },
      "execution_count": 3,
      "outputs": [
        {
          "output_type": "execute_result",
          "data": {
            "text/plain": [
              "                                   nama  gender\n",
              "79416   anindya salsabila agustya putri       0\n",
              "567113             syifa azzahra hafidz       0\n",
              "291582                         kustiyah       0\n",
              "171633                 eka rifadiansyah       1\n",
              "783                 alfrida palimbunga'       0"
            ],
            "text/html": [
              "\n",
              "  <div id=\"df-7f5af845-5368-462d-9a14-ef22785dc31b\">\n",
              "    <div class=\"colab-df-container\">\n",
              "      <div>\n",
              "<style scoped>\n",
              "    .dataframe tbody tr th:only-of-type {\n",
              "        vertical-align: middle;\n",
              "    }\n",
              "\n",
              "    .dataframe tbody tr th {\n",
              "        vertical-align: top;\n",
              "    }\n",
              "\n",
              "    .dataframe thead th {\n",
              "        text-align: right;\n",
              "    }\n",
              "</style>\n",
              "<table border=\"1\" class=\"dataframe\">\n",
              "  <thead>\n",
              "    <tr style=\"text-align: right;\">\n",
              "      <th></th>\n",
              "      <th>nama</th>\n",
              "      <th>gender</th>\n",
              "    </tr>\n",
              "  </thead>\n",
              "  <tbody>\n",
              "    <tr>\n",
              "      <th>79416</th>\n",
              "      <td>anindya salsabila agustya putri</td>\n",
              "      <td>0</td>\n",
              "    </tr>\n",
              "    <tr>\n",
              "      <th>567113</th>\n",
              "      <td>syifa azzahra hafidz</td>\n",
              "      <td>0</td>\n",
              "    </tr>\n",
              "    <tr>\n",
              "      <th>291582</th>\n",
              "      <td>kustiyah</td>\n",
              "      <td>0</td>\n",
              "    </tr>\n",
              "    <tr>\n",
              "      <th>171633</th>\n",
              "      <td>eka rifadiansyah</td>\n",
              "      <td>1</td>\n",
              "    </tr>\n",
              "    <tr>\n",
              "      <th>783</th>\n",
              "      <td>alfrida palimbunga'</td>\n",
              "      <td>0</td>\n",
              "    </tr>\n",
              "  </tbody>\n",
              "</table>\n",
              "</div>\n",
              "      <button class=\"colab-df-convert\" onclick=\"convertToInteractive('df-7f5af845-5368-462d-9a14-ef22785dc31b')\"\n",
              "              title=\"Convert this dataframe to an interactive table.\"\n",
              "              style=\"display:none;\">\n",
              "        \n",
              "  <svg xmlns=\"http://www.w3.org/2000/svg\" height=\"24px\"viewBox=\"0 0 24 24\"\n",
              "       width=\"24px\">\n",
              "    <path d=\"M0 0h24v24H0V0z\" fill=\"none\"/>\n",
              "    <path d=\"M18.56 5.44l.94 2.06.94-2.06 2.06-.94-2.06-.94-.94-2.06-.94 2.06-2.06.94zm-11 1L8.5 8.5l.94-2.06 2.06-.94-2.06-.94L8.5 2.5l-.94 2.06-2.06.94zm10 10l.94 2.06.94-2.06 2.06-.94-2.06-.94-.94-2.06-.94 2.06-2.06.94z\"/><path d=\"M17.41 7.96l-1.37-1.37c-.4-.4-.92-.59-1.43-.59-.52 0-1.04.2-1.43.59L10.3 9.45l-7.72 7.72c-.78.78-.78 2.05 0 2.83L4 21.41c.39.39.9.59 1.41.59.51 0 1.02-.2 1.41-.59l7.78-7.78 2.81-2.81c.8-.78.8-2.07 0-2.86zM5.41 20L4 18.59l7.72-7.72 1.47 1.35L5.41 20z\"/>\n",
              "  </svg>\n",
              "      </button>\n",
              "      \n",
              "  <style>\n",
              "    .colab-df-container {\n",
              "      display:flex;\n",
              "      flex-wrap:wrap;\n",
              "      gap: 12px;\n",
              "    }\n",
              "\n",
              "    .colab-df-convert {\n",
              "      background-color: #E8F0FE;\n",
              "      border: none;\n",
              "      border-radius: 50%;\n",
              "      cursor: pointer;\n",
              "      display: none;\n",
              "      fill: #1967D2;\n",
              "      height: 32px;\n",
              "      padding: 0 0 0 0;\n",
              "      width: 32px;\n",
              "    }\n",
              "\n",
              "    .colab-df-convert:hover {\n",
              "      background-color: #E2EBFA;\n",
              "      box-shadow: 0px 1px 2px rgba(60, 64, 67, 0.3), 0px 1px 3px 1px rgba(60, 64, 67, 0.15);\n",
              "      fill: #174EA6;\n",
              "    }\n",
              "\n",
              "    [theme=dark] .colab-df-convert {\n",
              "      background-color: #3B4455;\n",
              "      fill: #D2E3FC;\n",
              "    }\n",
              "\n",
              "    [theme=dark] .colab-df-convert:hover {\n",
              "      background-color: #434B5C;\n",
              "      box-shadow: 0px 1px 3px 1px rgba(0, 0, 0, 0.15);\n",
              "      filter: drop-shadow(0px 1px 2px rgba(0, 0, 0, 0.3));\n",
              "      fill: #FFFFFF;\n",
              "    }\n",
              "  </style>\n",
              "\n",
              "      <script>\n",
              "        const buttonEl =\n",
              "          document.querySelector('#df-7f5af845-5368-462d-9a14-ef22785dc31b button.colab-df-convert');\n",
              "        buttonEl.style.display =\n",
              "          google.colab.kernel.accessAllowed ? 'block' : 'none';\n",
              "\n",
              "        async function convertToInteractive(key) {\n",
              "          const element = document.querySelector('#df-7f5af845-5368-462d-9a14-ef22785dc31b');\n",
              "          const dataTable =\n",
              "            await google.colab.kernel.invokeFunction('convertToInteractive',\n",
              "                                                     [key], {});\n",
              "          if (!dataTable) return;\n",
              "\n",
              "          const docLinkHtml = 'Like what you see? Visit the ' +\n",
              "            '<a target=\"_blank\" href=https://colab.research.google.com/notebooks/data_table.ipynb>data table notebook</a>'\n",
              "            + ' to learn more about interactive tables.';\n",
              "          element.innerHTML = '';\n",
              "          dataTable['output_type'] = 'display_data';\n",
              "          await google.colab.output.renderOutput(dataTable, element);\n",
              "          const docLink = document.createElement('div');\n",
              "          docLink.innerHTML = docLinkHtml;\n",
              "          element.appendChild(docLink);\n",
              "        }\n",
              "      </script>\n",
              "    </div>\n",
              "  </div>\n",
              "  "
            ]
          },
          "metadata": {},
          "execution_count": 3
        }
      ]
    },
    {
      "cell_type": "code",
      "source": [
        "# view summary of dataset\n",
        "df.info()"
      ],
      "metadata": {
        "colab": {
          "base_uri": "https://localhost:8080/"
        },
        "id": "o6hW1wfldTyp",
        "outputId": "6f00aa58-aed5-44ab-f58e-80749c04a260"
      },
      "execution_count": 4,
      "outputs": [
        {
          "output_type": "stream",
          "name": "stdout",
          "text": [
            "<class 'pandas.core.frame.DataFrame'>\n",
            "RangeIndex: 624235 entries, 0 to 624234\n",
            "Data columns (total 2 columns):\n",
            " #   Column  Non-Null Count   Dtype \n",
            "---  ------  --------------   ----- \n",
            " 0   nama    624235 non-null  object\n",
            " 1   gender  624235 non-null  int64 \n",
            "dtypes: int64(1), object(1)\n",
            "memory usage: 9.5+ MB\n"
          ]
        }
      ]
    },
    {
      "cell_type": "markdown",
      "source": [
        "- Seperti yang dilihat ada 2 kolom dalam database diatas dan tidak ada yang bernilai kosong, null atau NaN."
      ],
      "metadata": {
        "id": "UJK3O6cIdl5m"
      }
    },
    {
      "cell_type": "markdown",
      "source": [
        "##### **2.2 Distribusi Variabel Target**<br/>\n",
        "Dimana, variable targetnya adalah `gender`"
      ],
      "metadata": {
        "id": "BlSuPHhAdo7h"
      }
    },
    {
      "cell_type": "code",
      "source": [
        "df['gender'].value_counts()"
      ],
      "metadata": {
        "colab": {
          "base_uri": "https://localhost:8080/"
        },
        "id": "yG5b3c4CdUCO",
        "outputId": "9700ec75-8348-411e-ce19-8ce6ec677c4c"
      },
      "execution_count": 5,
      "outputs": [
        {
          "output_type": "execute_result",
          "data": {
            "text/plain": [
              "1    322536\n",
              "0    301699\n",
              "Name: gender, dtype: int64"
            ]
          },
          "metadata": {},
          "execution_count": 5
        }
      ]
    },
    {
      "cell_type": "markdown",
      "source": [
        "- Variabel target adalah `gender`. Berisi 2 nilai - 0 dan 1.\n",
        "- 0 untuk **Perempuan** dan 1 untuk **Laki-Laki**.\n",
        "- Dari sini kita akan memperlakukannya sebagai klasifikasi biner."
      ],
      "metadata": {
        "id": "AFJs4TxMeC3X"
      }
    },
    {
      "cell_type": "markdown",
      "source": [
        "##### **2.3 Penentuan Variabel**"
      ],
      "metadata": {
        "id": "gzLGFi_PeYPz"
      }
    },
    {
      "cell_type": "code",
      "source": [
        "feature_col_names = [\"nama\"]\n",
        "predicted_class_names = [\"gender\"]\n",
        "\n",
        "X = df[feature_col_names].values     \n",
        "y = df[predicted_class_names].values"
      ],
      "metadata": {
        "id": "u3Zpv9jZdzfm"
      },
      "execution_count": 7,
      "outputs": []
    },
    {
      "cell_type": "markdown",
      "source": [
        "##### **2.4 Split Dataset**<br/>\n",
        "Split dataset into training and test set"
      ],
      "metadata": {
        "id": "9ryNVaphecKl"
      }
    },
    {
      "cell_type": "code",
      "source": [
        "split_test_size = 0.30\n",
        "\n",
        "text_train, text_test, y_train, y_test = train_test_split(X, y, test_size=split_test_size, stratify=y, random_state=42) \n",
        "\n",
        "print(\"Dataset Asli Pria       : {0} ({1:0.2f}%)\".format(len(df.loc[df['gender'] == 1]), (len(df.loc[df['gender'] == 1])/len(df.index)) * 100.0))\n",
        "print(\"Dataset Asli Wanita     : {0} ({1:0.2f}%)\".format(len(df.loc[df['gender'] == 0]), (len(df.loc[df['gender'] == 0])/len(df.index)) * 100.0))\n",
        "print(\"\")\n",
        "print(\"Dataset Training Pria   : {0} ({1:0.2f}%)\".format(len(y_train[y_train[:] == 1]), (len(y_train[y_train[:] == 1])/len(y_train) * 100.0)))\n",
        "print(\"Dataset Training Wanita : {0} ({1:0.2f}%)\".format(len(y_train[y_train[:] == 0]), (len(y_train[y_train[:] == 0])/len(y_train) * 100.0)))\n",
        "print(\"\")\n",
        "print(\"Dataset Test Pria       : {0} ({1:0.2f}%)\".format(len(y_test[y_test[:] == 1]), (len(y_test[y_test[:] == 1])/len(y_test) * 100.0)))\n",
        "print(\"Dataset Test Wanita     : {0} ({1:0.2f}%)\".format(len(y_test[y_test[:] == 0]), (len(y_test[y_test[:] == 0])/len(y_test) * 100.0)))"
      ],
      "metadata": {
        "colab": {
          "base_uri": "https://localhost:8080/"
        },
        "id": "2cMCnZkWeZ0j",
        "outputId": "cb798787-c49f-4fa8-e12b-a37301aade87"
      },
      "execution_count": 8,
      "outputs": [
        {
          "output_type": "stream",
          "name": "stdout",
          "text": [
            "Dataset Asli Pria       : 322536 (51.67%)\n",
            "Dataset Asli Wanita     : 301699 (48.33%)\n",
            "\n",
            "Dataset Training Pria   : 225775 (51.67%)\n",
            "Dataset Training Wanita : 211189 (48.33%)\n",
            "\n",
            "Dataset Test Pria       : 96761 (51.67%)\n",
            "Dataset Test Wanita     : 90510 (48.33%)\n"
          ]
        }
      ]
    },
    {
      "cell_type": "markdown",
      "source": [
        "#### **3. Feature Extraction**"
      ],
      "metadata": {
        "id": "ZidzKch9TFTu"
      }
    },
    {
      "cell_type": "markdown",
      "source": [
        "##### **3.1 Count Vectorizer**"
      ],
      "metadata": {
        "id": "H_nS0db4TJfn"
      }
    },
    {
      "cell_type": "code",
      "source": [
        "from sklearn.feature_extraction.text import CountVectorizer\n",
        "\n",
        "vectorizer_cv = CountVectorizer(analyzer='char_wb', ngram_range=(2,6))\n",
        "vectorizer_cv.fit(text_train.ravel())\n",
        "\n",
        "X_train_cv = vectorizer_cv.transform(text_train.ravel())\n",
        "X_test_cv = vectorizer_cv.transform(text_test.ravel())"
      ],
      "metadata": {
        "id": "Z2l5uj_3TACm"
      },
      "execution_count": 21,
      "outputs": []
    },
    {
      "cell_type": "markdown",
      "source": [
        "##### **3.2 TF-IDF**"
      ],
      "metadata": {
        "id": "aRgiXcfd18Zn"
      }
    },
    {
      "cell_type": "code",
      "source": [
        "vectorizer_tfidf = TfidfVectorizer(analyzer='char_wb', ngram_range=(2,6))\n",
        "vectorizer_tfidf.fit(text_train.ravel())\n",
        "\n",
        "X_train_tfidf = vectorizer_tfidf.transform(text_train.ravel())\n",
        "X_test_tfidf = vectorizer_tfidf.transform(text_test.ravel())"
      ],
      "metadata": {
        "id": "vgUrwVMfib_s"
      },
      "execution_count": 9,
      "outputs": []
    },
    {
      "cell_type": "markdown",
      "source": [
        "#### **4. Buat Model**"
      ],
      "metadata": {
        "id": "lowbOuDF4AfN"
      }
    },
    {
      "cell_type": "markdown",
      "source": [
        "##### **4.1 AdaBoost Classifier**"
      ],
      "metadata": {
        "id": "DgsHm6aT4s9Z"
      }
    },
    {
      "cell_type": "code",
      "source": [
        "# Count Vectorizer\n",
        "from sklearn.ensemble import AdaBoostClassifier\n",
        "\n",
        "clf_cv = AdaBoostClassifier()\n",
        "clf_cv.fit(X_train_cv, y_train)"
      ],
      "metadata": {
        "colab": {
          "base_uri": "https://localhost:8080/",
          "height": 75
        },
        "id": "3jSWsHFoTVXD",
        "outputId": "4e8d658f-059b-4887-e95f-f479569b560f"
      },
      "execution_count": 22,
      "outputs": [
        {
          "output_type": "execute_result",
          "data": {
            "text/plain": [
              "AdaBoostClassifier()"
            ],
            "text/html": [
              "<style>#sk-container-id-2 {color: black;background-color: white;}#sk-container-id-2 pre{padding: 0;}#sk-container-id-2 div.sk-toggleable {background-color: white;}#sk-container-id-2 label.sk-toggleable__label {cursor: pointer;display: block;width: 100%;margin-bottom: 0;padding: 0.3em;box-sizing: border-box;text-align: center;}#sk-container-id-2 label.sk-toggleable__label-arrow:before {content: \"▸\";float: left;margin-right: 0.25em;color: #696969;}#sk-container-id-2 label.sk-toggleable__label-arrow:hover:before {color: black;}#sk-container-id-2 div.sk-estimator:hover label.sk-toggleable__label-arrow:before {color: black;}#sk-container-id-2 div.sk-toggleable__content {max-height: 0;max-width: 0;overflow: hidden;text-align: left;background-color: #f0f8ff;}#sk-container-id-2 div.sk-toggleable__content pre {margin: 0.2em;color: black;border-radius: 0.25em;background-color: #f0f8ff;}#sk-container-id-2 input.sk-toggleable__control:checked~div.sk-toggleable__content {max-height: 200px;max-width: 100%;overflow: auto;}#sk-container-id-2 input.sk-toggleable__control:checked~label.sk-toggleable__label-arrow:before {content: \"▾\";}#sk-container-id-2 div.sk-estimator input.sk-toggleable__control:checked~label.sk-toggleable__label {background-color: #d4ebff;}#sk-container-id-2 div.sk-label input.sk-toggleable__control:checked~label.sk-toggleable__label {background-color: #d4ebff;}#sk-container-id-2 input.sk-hidden--visually {border: 0;clip: rect(1px 1px 1px 1px);clip: rect(1px, 1px, 1px, 1px);height: 1px;margin: -1px;overflow: hidden;padding: 0;position: absolute;width: 1px;}#sk-container-id-2 div.sk-estimator {font-family: monospace;background-color: #f0f8ff;border: 1px dotted black;border-radius: 0.25em;box-sizing: border-box;margin-bottom: 0.5em;}#sk-container-id-2 div.sk-estimator:hover {background-color: #d4ebff;}#sk-container-id-2 div.sk-parallel-item::after {content: \"\";width: 100%;border-bottom: 1px solid gray;flex-grow: 1;}#sk-container-id-2 div.sk-label:hover label.sk-toggleable__label {background-color: #d4ebff;}#sk-container-id-2 div.sk-serial::before {content: \"\";position: absolute;border-left: 1px solid gray;box-sizing: border-box;top: 0;bottom: 0;left: 50%;z-index: 0;}#sk-container-id-2 div.sk-serial {display: flex;flex-direction: column;align-items: center;background-color: white;padding-right: 0.2em;padding-left: 0.2em;position: relative;}#sk-container-id-2 div.sk-item {position: relative;z-index: 1;}#sk-container-id-2 div.sk-parallel {display: flex;align-items: stretch;justify-content: center;background-color: white;position: relative;}#sk-container-id-2 div.sk-item::before, #sk-container-id-2 div.sk-parallel-item::before {content: \"\";position: absolute;border-left: 1px solid gray;box-sizing: border-box;top: 0;bottom: 0;left: 50%;z-index: -1;}#sk-container-id-2 div.sk-parallel-item {display: flex;flex-direction: column;z-index: 1;position: relative;background-color: white;}#sk-container-id-2 div.sk-parallel-item:first-child::after {align-self: flex-end;width: 50%;}#sk-container-id-2 div.sk-parallel-item:last-child::after {align-self: flex-start;width: 50%;}#sk-container-id-2 div.sk-parallel-item:only-child::after {width: 0;}#sk-container-id-2 div.sk-dashed-wrapped {border: 1px dashed gray;margin: 0 0.4em 0.5em 0.4em;box-sizing: border-box;padding-bottom: 0.4em;background-color: white;}#sk-container-id-2 div.sk-label label {font-family: monospace;font-weight: bold;display: inline-block;line-height: 1.2em;}#sk-container-id-2 div.sk-label-container {text-align: center;}#sk-container-id-2 div.sk-container {/* jupyter's `normalize.less` sets `[hidden] { display: none; }` but bootstrap.min.css set `[hidden] { display: none !important; }` so we also need the `!important` here to be able to override the default hidden behavior on the sphinx rendered scikit-learn.org. See: https://github.com/scikit-learn/scikit-learn/issues/21755 */display: inline-block !important;position: relative;}#sk-container-id-2 div.sk-text-repr-fallback {display: none;}</style><div id=\"sk-container-id-2\" class=\"sk-top-container\"><div class=\"sk-text-repr-fallback\"><pre>AdaBoostClassifier()</pre><b>In a Jupyter environment, please rerun this cell to show the HTML representation or trust the notebook. <br />On GitHub, the HTML representation is unable to render, please try loading this page with nbviewer.org.</b></div><div class=\"sk-container\" hidden><div class=\"sk-item\"><div class=\"sk-estimator sk-toggleable\"><input class=\"sk-toggleable__control sk-hidden--visually\" id=\"sk-estimator-id-2\" type=\"checkbox\" checked><label for=\"sk-estimator-id-2\" class=\"sk-toggleable__label sk-toggleable__label-arrow\">AdaBoostClassifier</label><div class=\"sk-toggleable__content\"><pre>AdaBoostClassifier()</pre></div></div></div></div></div>"
            ]
          },
          "metadata": {},
          "execution_count": 22
        }
      ]
    },
    {
      "cell_type": "code",
      "source": [
        "import pickle\n",
        "\n",
        "with open('/content/ada-cv-models.pkl', 'wb') as f:\n",
        "    pickle.dump(clf_cv, f)"
      ],
      "metadata": {
        "id": "Upy6pz6kUHET"
      },
      "execution_count": 23,
      "outputs": []
    },
    {
      "cell_type": "code",
      "source": [
        "# TF-IDF\n",
        "from sklearn.ensemble import AdaBoostClassifier\n",
        "\n",
        "clf = AdaBoostClassifier()\n",
        "clf.fit(X_train_tfidf, y_train)"
      ],
      "metadata": {
        "colab": {
          "base_uri": "https://localhost:8080/",
          "height": 75
        },
        "id": "_uIyZeKojcMT",
        "outputId": "2ca936d0-7abc-41f3-b3a2-7c78cb47bc8b"
      },
      "execution_count": 11,
      "outputs": [
        {
          "output_type": "execute_result",
          "data": {
            "text/plain": [
              "AdaBoostClassifier()"
            ],
            "text/html": [
              "<style>#sk-container-id-1 {color: black;background-color: white;}#sk-container-id-1 pre{padding: 0;}#sk-container-id-1 div.sk-toggleable {background-color: white;}#sk-container-id-1 label.sk-toggleable__label {cursor: pointer;display: block;width: 100%;margin-bottom: 0;padding: 0.3em;box-sizing: border-box;text-align: center;}#sk-container-id-1 label.sk-toggleable__label-arrow:before {content: \"▸\";float: left;margin-right: 0.25em;color: #696969;}#sk-container-id-1 label.sk-toggleable__label-arrow:hover:before {color: black;}#sk-container-id-1 div.sk-estimator:hover label.sk-toggleable__label-arrow:before {color: black;}#sk-container-id-1 div.sk-toggleable__content {max-height: 0;max-width: 0;overflow: hidden;text-align: left;background-color: #f0f8ff;}#sk-container-id-1 div.sk-toggleable__content pre {margin: 0.2em;color: black;border-radius: 0.25em;background-color: #f0f8ff;}#sk-container-id-1 input.sk-toggleable__control:checked~div.sk-toggleable__content {max-height: 200px;max-width: 100%;overflow: auto;}#sk-container-id-1 input.sk-toggleable__control:checked~label.sk-toggleable__label-arrow:before {content: \"▾\";}#sk-container-id-1 div.sk-estimator input.sk-toggleable__control:checked~label.sk-toggleable__label {background-color: #d4ebff;}#sk-container-id-1 div.sk-label input.sk-toggleable__control:checked~label.sk-toggleable__label {background-color: #d4ebff;}#sk-container-id-1 input.sk-hidden--visually {border: 0;clip: rect(1px 1px 1px 1px);clip: rect(1px, 1px, 1px, 1px);height: 1px;margin: -1px;overflow: hidden;padding: 0;position: absolute;width: 1px;}#sk-container-id-1 div.sk-estimator {font-family: monospace;background-color: #f0f8ff;border: 1px dotted black;border-radius: 0.25em;box-sizing: border-box;margin-bottom: 0.5em;}#sk-container-id-1 div.sk-estimator:hover {background-color: #d4ebff;}#sk-container-id-1 div.sk-parallel-item::after {content: \"\";width: 100%;border-bottom: 1px solid gray;flex-grow: 1;}#sk-container-id-1 div.sk-label:hover label.sk-toggleable__label {background-color: #d4ebff;}#sk-container-id-1 div.sk-serial::before {content: \"\";position: absolute;border-left: 1px solid gray;box-sizing: border-box;top: 0;bottom: 0;left: 50%;z-index: 0;}#sk-container-id-1 div.sk-serial {display: flex;flex-direction: column;align-items: center;background-color: white;padding-right: 0.2em;padding-left: 0.2em;position: relative;}#sk-container-id-1 div.sk-item {position: relative;z-index: 1;}#sk-container-id-1 div.sk-parallel {display: flex;align-items: stretch;justify-content: center;background-color: white;position: relative;}#sk-container-id-1 div.sk-item::before, #sk-container-id-1 div.sk-parallel-item::before {content: \"\";position: absolute;border-left: 1px solid gray;box-sizing: border-box;top: 0;bottom: 0;left: 50%;z-index: -1;}#sk-container-id-1 div.sk-parallel-item {display: flex;flex-direction: column;z-index: 1;position: relative;background-color: white;}#sk-container-id-1 div.sk-parallel-item:first-child::after {align-self: flex-end;width: 50%;}#sk-container-id-1 div.sk-parallel-item:last-child::after {align-self: flex-start;width: 50%;}#sk-container-id-1 div.sk-parallel-item:only-child::after {width: 0;}#sk-container-id-1 div.sk-dashed-wrapped {border: 1px dashed gray;margin: 0 0.4em 0.5em 0.4em;box-sizing: border-box;padding-bottom: 0.4em;background-color: white;}#sk-container-id-1 div.sk-label label {font-family: monospace;font-weight: bold;display: inline-block;line-height: 1.2em;}#sk-container-id-1 div.sk-label-container {text-align: center;}#sk-container-id-1 div.sk-container {/* jupyter's `normalize.less` sets `[hidden] { display: none; }` but bootstrap.min.css set `[hidden] { display: none !important; }` so we also need the `!important` here to be able to override the default hidden behavior on the sphinx rendered scikit-learn.org. See: https://github.com/scikit-learn/scikit-learn/issues/21755 */display: inline-block !important;position: relative;}#sk-container-id-1 div.sk-text-repr-fallback {display: none;}</style><div id=\"sk-container-id-1\" class=\"sk-top-container\"><div class=\"sk-text-repr-fallback\"><pre>AdaBoostClassifier()</pre><b>In a Jupyter environment, please rerun this cell to show the HTML representation or trust the notebook. <br />On GitHub, the HTML representation is unable to render, please try loading this page with nbviewer.org.</b></div><div class=\"sk-container\" hidden><div class=\"sk-item\"><div class=\"sk-estimator sk-toggleable\"><input class=\"sk-toggleable__control sk-hidden--visually\" id=\"sk-estimator-id-1\" type=\"checkbox\" checked><label for=\"sk-estimator-id-1\" class=\"sk-toggleable__label sk-toggleable__label-arrow\">AdaBoostClassifier</label><div class=\"sk-toggleable__content\"><pre>AdaBoostClassifier()</pre></div></div></div></div></div>"
            ]
          },
          "metadata": {},
          "execution_count": 11
        }
      ]
    },
    {
      "cell_type": "code",
      "source": [
        "import pickle\n",
        "\n",
        "with open('/content/ada-tfidf-models.pkl', 'wb') as f:\n",
        "    pickle.dump(clf, f)"
      ],
      "metadata": {
        "id": "7rAAxSvyKJbr"
      },
      "execution_count": 12,
      "outputs": []
    },
    {
      "cell_type": "markdown",
      "source": [
        "##### **4.2 Data Tesing**"
      ],
      "metadata": {
        "id": "RuXv8Ye24zUr"
      }
    },
    {
      "cell_type": "code",
      "source": [
        "# Count Vectorizer\n",
        "dt_pred_cv = clf_cv.predict(X_test_cv)\n",
        "accuracy = metrics.accuracy_score(dt_pred_cv, y_test)\n",
        "\n",
        "print('AdaBoost Model (CV) accuracy score: {0:0.4f}'.format(metrics.accuracy_score(y_test, dt_pred_cv)))"
      ],
      "metadata": {
        "colab": {
          "base_uri": "https://localhost:8080/"
        },
        "id": "I5CqBVluUrO0",
        "outputId": "a8ab5de1-e0f8-4957-fa00-56702e85b44e"
      },
      "execution_count": 26,
      "outputs": [
        {
          "output_type": "stream",
          "name": "stdout",
          "text": [
            "AdaBoost Model (CV) accuracy score: 0.8937\n"
          ]
        }
      ]
    },
    {
      "cell_type": "code",
      "source": [
        "# TF-IDF\n",
        "dt_pred_tfidf = clf.predict(X_test_tfidf)\n",
        "accuracy = metrics.accuracy_score(dt_pred_tfidf, y_test)\n",
        "\n",
        "print('AdaBoost Model accuracy score: {0:0.4f}'.format(metrics.accuracy_score(y_test, dt_pred_tfidf)))"
      ],
      "metadata": {
        "colab": {
          "base_uri": "https://localhost:8080/"
        },
        "id": "Qh-5Q6P4uGl9",
        "outputId": "b860e447-3cd6-4200-ff7b-4bd6fefa0602"
      },
      "execution_count": 13,
      "outputs": [
        {
          "output_type": "stream",
          "name": "stdout",
          "text": [
            "AdaBoost Model accuracy score: 0.8911\n"
          ]
        }
      ]
    },
    {
      "cell_type": "markdown",
      "source": [
        "##### **4.3 Data Train**<br/>\n",
        "Sekarang, aku akan membandingkan akurasi dari train-set dan test-set untuk pemeriksaan overfitting."
      ],
      "metadata": {
        "id": "eg6QIHJYez39"
      }
    },
    {
      "cell_type": "code",
      "source": [
        "# Count Vectorizer\n",
        "y_pred_train_cv = clf_cv.predict(X_train_cv)\n",
        "print('Training-set accuracy score: {0:0.4f}'. format(metrics.accuracy_score(y_train, y_pred_train_cv)))"
      ],
      "metadata": {
        "colab": {
          "base_uri": "https://localhost:8080/"
        },
        "id": "6NnOcz0tU1GG",
        "outputId": "7b4a4da3-6805-4ded-e373-e2ac520d41f7"
      },
      "execution_count": 27,
      "outputs": [
        {
          "output_type": "stream",
          "name": "stdout",
          "text": [
            "Training-set accuracy score: 0.8926\n"
          ]
        }
      ]
    },
    {
      "cell_type": "code",
      "source": [
        "# TF-IDF\n",
        "y_pred_train = clf.predict(X_train_tfidf)\n",
        "print('Training-set accuracy score: {0:0.4f}'. format(metrics.accuracy_score(y_train, y_pred_train)))"
      ],
      "metadata": {
        "colab": {
          "base_uri": "https://localhost:8080/"
        },
        "id": "4zHMeoGOes0D",
        "outputId": "43e0f825-5006-4455-dcb9-07792c624b5c"
      },
      "execution_count": 14,
      "outputs": [
        {
          "output_type": "stream",
          "name": "stdout",
          "text": [
            "Training-set accuracy score: 0.8910\n"
          ]
        }
      ]
    },
    {
      "cell_type": "markdown",
      "source": [
        "##### **4.4 Overfitting Check**"
      ],
      "metadata": {
        "id": "km-fN5mce7k8"
      }
    },
    {
      "cell_type": "code",
      "source": [
        "# Count Vectorizer\n",
        "print('Training set score: {:.4f}'.format(clf_cv.score(X_train_cv, y_train)))\n",
        "print('Test set score: {:.4f}'.format(clf.score(X_test_tfidf, y_test)))"
      ],
      "metadata": {
        "colab": {
          "base_uri": "https://localhost:8080/"
        },
        "id": "-DP1Btr6VA35",
        "outputId": "7bba469b-5f86-4b1e-9107-d8a47570d28d"
      },
      "execution_count": 28,
      "outputs": [
        {
          "output_type": "stream",
          "name": "stdout",
          "text": [
            "Training set score: 0.8926\n",
            "Test set score: 0.8911\n"
          ]
        }
      ]
    },
    {
      "cell_type": "code",
      "source": [
        "# TF-IDF\n",
        "print('Training set score: {:.4f}'.format(clf.score(X_train_tfidf, y_train)))\n",
        "print('Test set score: {:.4f}'.format(clf.score(X_test_tfidf, y_test)))"
      ],
      "metadata": {
        "colab": {
          "base_uri": "https://localhost:8080/"
        },
        "id": "FxGghUkse3Xs",
        "outputId": "1576013f-5621-4acd-81b6-6a608c0db854"
      },
      "execution_count": 15,
      "outputs": [
        {
          "output_type": "stream",
          "name": "stdout",
          "text": [
            "Training set score: 0.8910\n",
            "Test set score: 0.8911\n"
          ]
        }
      ]
    },
    {
      "cell_type": "markdown",
      "source": [
        "Akurasi train-set dan test-set cukup sebanding. Jadi, kita tidak bisa mengatakan ada overfitting."
      ],
      "metadata": {
        "id": "LZ8zGH0De_27"
      }
    },
    {
      "cell_type": "markdown",
      "source": [
        "#### **5. Evaluasi Model**"
      ],
      "metadata": {
        "id": "uBqM7CsF6D19"
      }
    },
    {
      "cell_type": "markdown",
      "source": [
        "##### **5.1 Confusion Matrix**"
      ],
      "metadata": {
        "id": "qLHCf1AYfB7H"
      }
    },
    {
      "cell_type": "code",
      "source": [
        "# Count Vectorizer\n",
        "cm_cv = confusion_matrix(y_test, dt_pred_cv)\n",
        "\n",
        "print('Confusion matrix\\n\\n', cm_cv)\n",
        "print('\\nTrue Positives(TP) = ', cm_cv[0,0])\n",
        "print('True Negatives(TN) = ', cm_cv[1,1])\n",
        "print('False Positives(FP) = ', cm_cv[0,1])\n",
        "print('False Negatives(FN) = ', cm_cv[1,0])"
      ],
      "metadata": {
        "colab": {
          "base_uri": "https://localhost:8080/"
        },
        "id": "axefhQefVEtw",
        "outputId": "9988c7ee-e2a3-4fee-c4e0-5b25cab23acc"
      },
      "execution_count": 29,
      "outputs": [
        {
          "output_type": "stream",
          "name": "stdout",
          "text": [
            "Confusion matrix\n",
            "\n",
            " [[80578  9932]\n",
            " [ 9977 86784]]\n",
            "\n",
            "True Positives(TP) =  80578\n",
            "True Negatives(TN) =  86784\n",
            "False Positives(FP) =  9932\n",
            "False Negatives(FN) =  9977\n"
          ]
        }
      ]
    },
    {
      "cell_type": "code",
      "source": [
        "cm_matrix_cv = pd.DataFrame(data=cm_cv, columns=['Actual Positive:1', 'Actual Negative:0'], \n",
        "                                 index=['Predict Positive:1', 'Predict Negative:0'])\n",
        "\n",
        "sns.heatmap(cm_matrix_cv, annot=True, fmt='d', cmap='YlGnBu')"
      ],
      "metadata": {
        "colab": {
          "base_uri": "https://localhost:8080/",
          "height": 448
        },
        "id": "WYuD11y-VNNA",
        "outputId": "7e96e2ca-f89e-4c16-dd61-38f3b8ccf073"
      },
      "execution_count": 30,
      "outputs": [
        {
          "output_type": "execute_result",
          "data": {
            "text/plain": [
              "<Axes: >"
            ]
          },
          "metadata": {},
          "execution_count": 30
        },
        {
          "output_type": "display_data",
          "data": {
            "text/plain": [
              "<Figure size 640x480 with 2 Axes>"
            ],
            "image/png": "[encoded data removed]"
          },
          "metadata": {}
        }
      ]
    },
    {
      "cell_type": "code",
      "source": [
        "# TF-IDF\n",
        "cm = confusion_matrix(y_test, dt_pred_tfidf)\n",
        "\n",
        "print('Confusion matrix\\n\\n', cm)\n",
        "print('\\nTrue Positives(TP) = ', cm[0,0])\n",
        "print('True Negatives(TN) = ', cm[1,1])\n",
        "print('False Positives(FP) = ', cm[0,1])\n",
        "print('False Negatives(FN) = ', cm[1,0])"
      ],
      "metadata": {
        "colab": {
          "base_uri": "https://localhost:8080/"
        },
        "id": "QSBhTWIJe9St",
        "outputId": "43f3e318-b090-47d9-d0f9-c8ec2eb31de6"
      },
      "execution_count": 16,
      "outputs": [
        {
          "output_type": "stream",
          "name": "stdout",
          "text": [
            "Confusion matrix\n",
            "\n",
            " [[80977  9533]\n",
            " [10865 85896]]\n",
            "\n",
            "True Positives(TP) =  80977\n",
            "True Negatives(TN) =  85896\n",
            "False Positives(FP) =  9533\n",
            "False Negatives(FN) =  10865\n"
          ]
        }
      ]
    },
    {
      "cell_type": "code",
      "source": [
        "cm_matrix = pd.DataFrame(data=cm, columns=['Actual Positive:1', 'Actual Negative:0'], \n",
        "                                 index=['Predict Positive:1', 'Predict Negative:0'])\n",
        "\n",
        "sns.heatmap(cm_matrix, annot=True, fmt='d', cmap='YlGnBu')"
      ],
      "metadata": {
        "colab": {
          "base_uri": "https://localhost:8080/",
          "height": 448
        },
        "id": "PD267MJSfDyg",
        "outputId": "8aea439b-b417-4970-bcfb-04cdc47813ad"
      },
      "execution_count": 17,
      "outputs": [
        {
          "output_type": "execute_result",
          "data": {
            "text/plain": [
              "<Axes: >"
            ]
          },
          "metadata": {},
          "execution_count": 17
        },
        {
          "output_type": "display_data",
          "data": {
            "text/plain": [
              "<Figure size 640x480 with 2 Axes>"
            ],
            "image/png": "[encoded data removed]"
          },
          "metadata": {}
        }
      ]
    },
    {
      "cell_type": "markdown",
      "source": [
        "##### **5.2 Classification Metrices**"
      ],
      "metadata": {
        "id": "_q2rPBCnfIDj"
      }
    },
    {
      "cell_type": "code",
      "source": [
        "# Count Vectorizer\n",
        "print(metrics.classification_report(y_test, dt_pred_cv, digits=5, labels=[1,0]))"
      ],
      "metadata": {
        "colab": {
          "base_uri": "https://localhost:8080/"
        },
        "id": "XbOtUxTJVTi0",
        "outputId": "4a077c75-2cca-4fb4-df21-f359242bcb3a"
      },
      "execution_count": 32,
      "outputs": [
        {
          "output_type": "stream",
          "name": "stdout",
          "text": [
            "              precision    recall  f1-score   support\n",
            "\n",
            "           1    0.89731   0.89689   0.89710     96761\n",
            "           0    0.88982   0.89027   0.89005     90510\n",
            "\n",
            "    accuracy                        0.89369    187271\n",
            "   macro avg    0.89357   0.89358   0.89357    187271\n",
            "weighted avg    0.89369   0.89369   0.89369    187271\n",
            "\n"
          ]
        }
      ]
    },
    {
      "cell_type": "code",
      "source": [
        "# TF-IDF\n",
        "print(metrics.classification_report(y_test, dt_pred_tfidf, digits=5, labels=[1,0]))"
      ],
      "metadata": {
        "colab": {
          "base_uri": "https://localhost:8080/"
        },
        "id": "G36FXx6SfGCe",
        "outputId": "4084f5e3-e95d-4729-ccb7-1169caeeba8a"
      },
      "execution_count": 18,
      "outputs": [
        {
          "output_type": "stream",
          "name": "stdout",
          "text": [
            "              precision    recall  f1-score   support\n",
            "\n",
            "           1    0.90010   0.88771   0.89387     96761\n",
            "           0    0.88170   0.89467   0.88814     90510\n",
            "\n",
            "    accuracy                        0.89108    187271\n",
            "   macro avg    0.89090   0.89119   0.89100    187271\n",
            "weighted avg    0.89121   0.89108   0.89110    187271\n",
            "\n"
          ]
        }
      ]
    },
    {
      "cell_type": "markdown",
      "source": [
        "#### **6. Prediksi Manual**"
      ],
      "metadata": {
        "id": "cLZ_z-OciiYg"
      }
    },
    {
      "cell_type": "code",
      "source": [
        "def prediksi(prediction):\n",
        "    return 'Laki-Laki' if prediction == 1 else 'Perempuan'\n",
        "\n",
        "nama = [\n",
        "  'Novi Gustiana', \n",
        "  'Novia Kumala Sari', \n",
        "  'Novianto Rahmadi', \n",
        "  'Padli Nofrizal', \n",
        "  'Putri Wahyuni', \n",
        "  'Rahmat Hidayat', \n",
        "  'Rahmi Andreni', \n",
        "  'Rian Aries Fani', \n",
        "  'Riandi Selvi', \n",
        "  'Rianto', \n",
        "  'Ridha Ulva', \n",
        "  'Rizqi Wahyuningsih', \n",
        "  'Ruwadi Saputra', \n",
        "  'Sugeng Hermawan', \n",
        "  'Suliatun', \n",
        "  'Tomi Ismeidianto', \n",
        "  'Usthalay Putra', \n",
        "  'Winggo Aga Septian', \n",
        "  'Yunaldi Rizki Putra', \n",
        "  'Arif fasetyo', \n",
        "  'Arie Rahman Satria', \n",
        "  'Arinda Oktaviana', \n",
        "  'Melani', \n",
        "  'Malik', \n",
        "  'Melani Malik'\n",
        "]\n",
        "inputan = vectorizer_cv.transform(nama)\n",
        "\n",
        "for i in range(len(nama)):\n",
        "    prediction = clf_cv.predict(inputan[i])[0]\n",
        "    print(f\"Nama: {nama[i]}, Prediksi: {prediksi(prediction)}\")"
      ],
      "metadata": {
        "colab": {
          "base_uri": "https://localhost:8080/"
        },
        "id": "Izy3QLf2Vd0n",
        "outputId": "f369d2e5-e6a4-4edf-8910-790ec56b4f89"
      },
      "execution_count": 33,
      "outputs": [
        {
          "output_type": "stream",
          "name": "stdout",
          "text": [
            "Nama: Novi Gustiana, Prediksi: Perempuan\n",
            "Nama: Novia Kumala Sari, Prediksi: Perempuan\n",
            "Nama: Novianto Rahmadi, Prediksi: Laki-Laki\n",
            "Nama: Padli Nofrizal, Prediksi: Laki-Laki\n",
            "Nama: Putri Wahyuni, Prediksi: Perempuan\n",
            "Nama: Rahmat Hidayat, Prediksi: Laki-Laki\n",
            "Nama: Rahmi Andreni, Prediksi: Laki-Laki\n",
            "Nama: Rian Aries Fani, Prediksi: Laki-Laki\n",
            "Nama: Riandi Selvi, Prediksi: Laki-Laki\n",
            "Nama: Rianto, Prediksi: Laki-Laki\n",
            "Nama: Ridha Ulva, Prediksi: Perempuan\n",
            "Nama: Rizqi Wahyuningsih, Prediksi: Perempuan\n",
            "Nama: Ruwadi Saputra, Prediksi: Laki-Laki\n",
            "Nama: Sugeng Hermawan, Prediksi: Laki-Laki\n",
            "Nama: Suliatun, Prediksi: Perempuan\n",
            "Nama: Tomi Ismeidianto, Prediksi: Laki-Laki\n",
            "Nama: Usthalay Putra, Prediksi: Laki-Laki\n",
            "Nama: Winggo Aga Septian, Prediksi: Laki-Laki\n",
            "Nama: Yunaldi Rizki Putra, Prediksi: Laki-Laki\n",
            "Nama: Arif fasetyo, Prediksi: Laki-Laki\n",
            "Nama: Arie Rahman Satria, Prediksi: Laki-Laki\n",
            "Nama: Arinda Oktaviana, Prediksi: Perempuan\n",
            "Nama: Melani, Prediksi: Perempuan\n",
            "Nama: Malik, Prediksi: Laki-Laki\n",
            "Nama: Melani Malik, Prediksi: Perempuan\n"
          ]
        }
      ]
    },
    {
      "cell_type": "code",
      "source": [
        "# TF-IDF\n",
        "def prediksi(prediction):\n",
        "    return 'Laki-Laki' if prediction == 1 else 'Perempuan'\n",
        "\n",
        "nama = [\n",
        "  'Novi Gustiana', \n",
        "  'Novia Kumala Sari', \n",
        "  'Novianto Rahmadi', \n",
        "  'Padli Nofrizal', \n",
        "  'Putri Wahyuni', \n",
        "  'Rahmat Hidayat', \n",
        "  'Rahmi Andreni', \n",
        "  'Rian Aries Fani', \n",
        "  'Riandi Selvi', \n",
        "  'Rianto', \n",
        "  'Ridha Ulva', \n",
        "  'Rizqi Wahyuningsih', \n",
        "  'Ruwadi Saputra', \n",
        "  'Sugeng Hermawan', \n",
        "  'Suliatun', \n",
        "  'Tomi Ismeidianto', \n",
        "  'Usthalay Putra', \n",
        "  'Winggo Aga Septian', \n",
        "  'Yunaldi Rizki Putra', \n",
        "  'Arif fasetyo', \n",
        "  'Arie Rahman Satria', \n",
        "  'Arinda Oktaviana', \n",
        "  'Melani', \n",
        "  'Malik', \n",
        "  'Melani Malik'\n",
        "]\n",
        "inputan = vectorizer_tfidf.transform(nama)\n",
        "\n",
        "for i in range(len(nama)):\n",
        "    prediction = clf.predict(inputan[i])[0]\n",
        "    print(f\"Nama: {nama[i]}, Prediksi: {prediksi(prediction)}\")"
      ],
      "metadata": {
        "colab": {
          "base_uri": "https://localhost:8080/"
        },
        "id": "-EnbinvgueCg",
        "outputId": "fabe1dd5-8bc8-4b02-bedc-e5b3f812cbe0"
      },
      "execution_count": 19,
      "outputs": [
        {
          "output_type": "stream",
          "name": "stdout",
          "text": [
            "Nama: Novi Gustiana, Prediksi: Perempuan\n",
            "Nama: Novia Kumala Sari, Prediksi: Perempuan\n",
            "Nama: Novianto Rahmadi, Prediksi: Laki-Laki\n",
            "Nama: Padli Nofrizal, Prediksi: Laki-Laki\n",
            "Nama: Putri Wahyuni, Prediksi: Perempuan\n",
            "Nama: Rahmat Hidayat, Prediksi: Laki-Laki\n",
            "Nama: Rahmi Andreni, Prediksi: Laki-Laki\n",
            "Nama: Rian Aries Fani, Prediksi: Laki-Laki\n",
            "Nama: Riandi Selvi, Prediksi: Laki-Laki\n",
            "Nama: Rianto, Prediksi: Laki-Laki\n",
            "Nama: Ridha Ulva, Prediksi: Perempuan\n",
            "Nama: Rizqi Wahyuningsih, Prediksi: Perempuan\n",
            "Nama: Ruwadi Saputra, Prediksi: Laki-Laki\n",
            "Nama: Sugeng Hermawan, Prediksi: Laki-Laki\n",
            "Nama: Suliatun, Prediksi: Perempuan\n",
            "Nama: Tomi Ismeidianto, Prediksi: Laki-Laki\n",
            "Nama: Usthalay Putra, Prediksi: Laki-Laki\n",
            "Nama: Winggo Aga Septian, Prediksi: Laki-Laki\n",
            "Nama: Yunaldi Rizki Putra, Prediksi: Laki-Laki\n",
            "Nama: Arif fasetyo, Prediksi: Laki-Laki\n",
            "Nama: Arie Rahman Satria, Prediksi: Laki-Laki\n",
            "Nama: Arinda Oktaviana, Prediksi: Perempuan\n",
            "Nama: Melani, Prediksi: Perempuan\n",
            "Nama: Malik, Prediksi: Laki-Laki\n",
            "Nama: Melani Malik, Prediksi: Perempuan\n"
          ]
        }
      ]
    }
  ]
}